{
  "nbformat": 4,
  "nbformat_minor": 0,
  "metadata": {
    "colab": {
      "provenance": []
    },
    "kernelspec": {
      "name": "python3",
      "display_name": "Python 3"
    },
    "language_info": {
      "name": "python"
    }
  },
  "cells": [
    {
      "cell_type": "markdown",
      "source": [
        "#Q1. What is the difference between __getattr__ and __getattribute__?"
      ],
      "metadata": {
        "id": "WM1Sy9doXRpc"
      }
    },
    {
      "cell_type": "markdown",
      "source": [
        "Ans- Both __getattr__ and __getattribute__ are special methods in Python classes that are invoked when an attribute is accessed.\n",
        "\n",
        "1.__getattr__(self, name):\n",
        "This method is called only when the attribute being accessed is not found through normal attribute lookup. It is a fallback method that is invoked when an attribute is not present in the object's dictionary or its class hierarchy.\n",
        "\n",
        "If __getattr__ is defined in a class, it will be called whenever an attribute lookup fails, and it should return a value or raise an AttributeError to indicate that the attribute is not available.\n",
        "\n",
        "2.__getattribute__(self, name):\n",
        "This method is called for every attribute access, regardless of whether the attribute is present or not. It is invoked before __getattr__ and is the first method to be checked during attribute access.\n",
        "\n",
        "If __getattribute__ is defined in a class, it will be called for every attribute access, and it should return the value of the attribute or raise an exception if necessary. Be cautious when implementing __getattribute__ as it can lead to infinite recursion if not handled properly."
      ],
      "metadata": {
        "id": "bgJV5ONDXUMd"
      }
    },
    {
      "cell_type": "code",
      "execution_count": null,
      "metadata": {
        "id": "69F7VWuAVX8Q"
      },
      "outputs": [],
      "source": []
    },
    {
      "cell_type": "markdown",
      "source": [
        "#Q2. What is the difference between properties and descriptors?"
      ],
      "metadata": {
        "id": "k81WdMiVXifa"
      }
    },
    {
      "cell_type": "markdown",
      "source": [
        "ANs-Properties and descriptors are both mechanisms in Python that allow you to define special behavior for attribute access and modification\n",
        "\n",
        "**Properties:**\n",
        "\n",
        "1.Pythonic Syntax: Properties provide a simple and intuitive syntax for defining and accessing computed or derived attributes. They are defined using the @property decorator and accessed as if they were regular attributes.\n",
        "\n",
        "2.Attribute Access Control: Properties allow you to control how attributes are accessed, modified, or deleted. You can define custom getter, setter, and deleter methods associated with a property. This gives you fine-grained control over attribute access and enables data validation or modification before assignment.\n",
        "\n",
        "3.Class-Level: Properties are defined at the class level and apply to all instances of the class. They are accessed and modified through the instance, but their behavior is defined in the class.\n",
        "\n",
        "**Descriptors:**\n",
        "\n",
        "1.Descriptor Protocol: Descriptors are a lower-level mechanism that allows you to define attribute access behavior by implementing the descriptor protocol. The descriptor protocol involves defining the __get__, __set__, and __delete__ methods in a descriptor class.\n",
        "\n",
        "2.Reusable: Descriptors can be reused across multiple attributes and classes. They can be shared and assigned to different attributes within the same class or across different classes.\n",
        "\n",
        "3.Attribute-Level: Descriptors are defined at the attribute level rather than the class level. They allow you to customize the behavior of a specific attribute, providing complete control over attribute access, assignment, and deletion.\n",
        "\n",
        "4.Data Descriptors and Non-Data Descriptors: Descriptors can be classified as either data descriptors or non-data descriptors. Data descriptors define both the __get__ and __set__ methods, allowing complete control over attribute access and modification. Non-data descriptors define only the __get__ method, allowing read-only access to the attribute."
      ],
      "metadata": {
        "id": "mmL2h99lXqgI"
      }
    },
    {
      "cell_type": "code",
      "source": [],
      "metadata": {
        "id": "12yMJ908XjlG"
      },
      "execution_count": null,
      "outputs": []
    },
    {
      "cell_type": "markdown",
      "source": [
        "#Q3. What are the key differences in functionality between __getattr__ and __getattribute__, as well as properties and descriptors?"
      ],
      "metadata": {
        "id": "LU--wJOoYPdC"
      }
    },
    {
      "cell_type": "markdown",
      "source": [
        "Ans- __getattr__ vs. __getattribute__:\n",
        "\n",
        "__getattr__ is called only when an attribute is not found through normal attribute lookup. It acts as a fallback method for attribute access.\n",
        "\n",
        "__getattribute__ is called for every attribute access, regardless of whether the attribute is present or not. It is the first method checked during attribute access.\n",
        "\n",
        "**Properties vs. Descriptors:**\n",
        "\n",
        "**Properties:**\n",
        "\n",
        "Properties provide a simple and intuitive syntax for defining and accessing computed or derived attributes using the @property decorator.\n",
        "\n",
        "Properties are defined at the class level and apply to all instances of the class.\n",
        "\n",
        "Properties allow you to define custom getter, setter, and deleter methods associated with an attribute, giving you control over attribute access and modification.\n",
        "\n",
        "Properties provide attribute-level control with a clean syntax.\n",
        "\n",
        "**Descriptors:**\n",
        "\n",
        "Descriptors are a lower-level mechanism that allows you to define attribute access behavior by implementing the descriptor protocol (__get__, __set__, and __delete__ methods).\n",
        "\n",
        "Descriptors are defined at the attribute level and provide fine-grained control over attribute access, assignment, and deletion.\n",
        "\n",
        "Descriptors can be shared and assigned to different attributes within the same class or across different classes, making them reusable.\n",
        "\n",
        "Descriptors can be classified as either data descriptors (with both __get__ and __set__ methods) or non-data descriptors (with only __get__ method).\n",
        "\n"
      ],
      "metadata": {
        "id": "ikZrx4roYbSy"
      }
    },
    {
      "cell_type": "code",
      "source": [],
      "metadata": {
        "id": "9YYwlCF8YRxM"
      },
      "execution_count": null,
      "outputs": []
    }
  ]
}