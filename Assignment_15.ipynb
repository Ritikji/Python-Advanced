{
  "nbformat": 4,
  "nbformat_minor": 0,
  "metadata": {
    "colab": {
      "provenance": []
    },
    "kernelspec": {
      "name": "python3",
      "display_name": "Python 3"
    },
    "language_info": {
      "name": "python"
    }
  },
  "cells": [
    {
      "cell_type": "markdown",
      "source": [
        "#1. What are the new features added in Python 3.8 version?"
      ],
      "metadata": {
        "id": "Qszgg8De4IvK"
      }
    },
    {
      "cell_type": "markdown",
      "source": [
        "Ans-1. Assignment Expressions (The Walrus Operator):\n",
        "Python 3.8 introduced the assignment expression, also known as the walrus operator (:=). It allows you to assign values to variables within expressions. This feature is particularly useful in while loops and conditional expressions, reducing the need for separate assignments.\n",
        "\n",
        "2. Positional-Only Parameters:\n",
        "Python 3.8 introduced support for defining positional-only parameters in function signatures. By using the / character in the parameter list, you can enforce that certain arguments can only be passed positionally and not as keyword arguments.\n",
        "\n",
        "3. f-strings = Literal String Interpolation:\n",
        "Python 3.8 enhanced f-strings by introducing the = syntax, known as the \"f-strings = specifier\". It enables debugging by showing the expression's value alongside the output string, providing a convenient way to inspect variables during string interpolation.\n",
        "\n",
        "4. The math.prod() Function:\n",
        "Python 3.8 added a new function, math.prod(), to the math module. It calculates the product of all the elements in an iterable, similar to how sum() calculates the sum of elements.\n",
        "\n",
        "5. Reversible Dictionaries:\n",
        "Python 3.8 introduced the reversible flag for dictionaries, which makes dictionaries reversible. It allows the reversed dictionary to map values to keys, enabling easy lookup of keys based on values.\n",
        "\n",
        "6. The functools.cache() Decorator:\n",
        "The functools.cache() decorator was introduced in Python 3.8. It provides a simple way to cache the results of a function call based on its arguments, improving performance by avoiding redundant computations for the same inputs.\n",
        "\n",
        "7. Syntax Warning for Unparenthesized Yield:\n",
        "In Python 3.8, a new syntax warning was introduced to warn about unparenthesized yield expressions. This helps avoid potential ambiguity and enhances code readability."
      ],
      "metadata": {
        "id": "BVsbkswD4M1p"
      }
    },
    {
      "cell_type": "markdown",
      "source": [
        "#2. What is monkey patching in Python?"
      ],
      "metadata": {
        "id": "-tyBTjr24YsT"
      }
    },
    {
      "cell_type": "markdown",
      "source": [
        "Ans-Monkey patching in Python refers to the practice of modifying or extending the behavior of an existing module, class, or object at runtime by adding, replacing, or modifying its attributes or methods. It allows you to dynamically change the behavior of code without altering its original implementation.\n",
        "\n",
        "The term \"monkey patching\" comes from the idea of a monkey messing with the code by adding or modifying its parts while the program is running.\n",
        "\n",
        "Monkey patching can be useful in certain scenarios, such as:\n",
        "\n",
        "1. Fixing bugs or adding features to third-party libraries or modules without modifying their source code.\n",
        "2. Adapting or extending existing code to suit specific needs without needing to subclass or modify the original implementation.\n",
        "3. Experimenting and prototyping new functionality quickly."
      ],
      "metadata": {
        "id": "sJVubEs54fAa"
      }
    },
    {
      "cell_type": "code",
      "execution_count": 1,
      "metadata": {
        "colab": {
          "base_uri": "https://localhost:8080/"
        },
        "id": "DtR47TkE4IFt",
        "outputId": "f883b31d-f735-488d-e6fd-4e641bd430e1"
      },
      "outputs": [
        {
          "output_type": "stream",
          "name": "stdout",
          "text": [
            "Patched method\n"
          ]
        }
      ],
      "source": [
        "#example\n",
        "# Original class definition\n",
        "class MyClass:\n",
        "    def my_method(self):\n",
        "        print(\"Original method\")\n",
        "\n",
        "# Monkey patching to modify the behavior of MyClass\n",
        "def new_method(self):\n",
        "    print(\"Patched method\")\n",
        "\n",
        "MyClass.my_method = new_method\n",
        "\n",
        "# Creating an instance of MyClass\n",
        "obj = MyClass()\n",
        "\n",
        "# Calling the modified method\n",
        "obj.my_method()\n"
      ]
    },
    {
      "cell_type": "markdown",
      "source": [
        "#3. What is the difference between a shallow copy and deep copy?"
      ],
      "metadata": {
        "id": "fImzRIta4tMp"
      }
    },
    {
      "cell_type": "markdown",
      "source": [
        "Ans-Shallow Copy:\n",
        "A shallow copy creates a new object or data structure and then copies the references of the nested objects or data structures into the new object. In other words, it creates a new container object, but the elements inside the container are still references to the same objects as the original. Changes made to the nested objects or data structures will be reflected in both the original and the copied object."
      ],
      "metadata": {
        "id": "AS6HyVtf49FG"
      }
    },
    {
      "cell_type": "code",
      "source": [
        "#example\n",
        "import copy\n",
        "\n",
        "original_list = [1, [2, 3]]\n",
        "shallow_copy = copy.copy(original_list)\n",
        "\n",
        "# Modifying the nested list in the shallow copy\n",
        "shallow_copy[1].append(4)\n",
        "\n",
        "print(original_list)\n",
        "print(shallow_copy)\n"
      ],
      "metadata": {
        "colab": {
          "base_uri": "https://localhost:8080/"
        },
        "id": "PeAKhgGk4jMx",
        "outputId": "32aaa431-b8f4-4220-e00a-18b52571be93"
      },
      "execution_count": 2,
      "outputs": [
        {
          "output_type": "stream",
          "name": "stdout",
          "text": [
            "[1, [2, 3, 4]]\n",
            "[1, [2, 3, 4]]\n"
          ]
        }
      ]
    },
    {
      "cell_type": "markdown",
      "source": [
        "Deep Copy:\n",
        "A deep copy, on the other hand, creates a completely independent copy of the object or data structure and all the nested objects or data structures it contains. It recursively copies all the nested objects or data structures, ensuring that changes made to the copied object do not affect the original object and vice versa."
      ],
      "metadata": {
        "id": "TJ6BHPBN5FmH"
      }
    },
    {
      "cell_type": "code",
      "source": [
        "#example\n",
        "import copy\n",
        "\n",
        "original_list = [1, [2, 3]]\n",
        "deep_copy = copy.deepcopy(original_list)\n",
        "\n",
        "# Modifying the nested list in the deep copy\n",
        "deep_copy[1].append(4)\n",
        "\n",
        "print(original_list)\n",
        "print(deep_copy)\n"
      ],
      "metadata": {
        "colab": {
          "base_uri": "https://localhost:8080/"
        },
        "id": "D8IFZ87o5DcK",
        "outputId": "0c7dabbb-e168-4887-b1db-788ed62e3fd0"
      },
      "execution_count": 3,
      "outputs": [
        {
          "output_type": "stream",
          "name": "stdout",
          "text": [
            "[1, [2, 3]]\n",
            "[1, [2, 3, 4]]\n"
          ]
        }
      ]
    },
    {
      "cell_type": "markdown",
      "source": [
        "#4. What is the maximum possible length of an identifier?"
      ],
      "metadata": {
        "id": "I81dCcpP5RnH"
      }
    },
    {
      "cell_type": "markdown",
      "source": [
        "Ans-In Python, the maximum possible length of an identifier is not explicitly defined. However, there are practical limitations imposed by the language implementation.\n",
        "\n",
        "According to the Python language reference, an identifier is a sequence of letters, digits, and underscores, starting with a letter or an underscore. It can be of any length as long as it follows the naming rules and conventions.\n",
        "\n",
        "In practice, the length of an identifier is typically limited by the underlying system's limitations, such as the maximum length of a string or the maximum size of a variable name in the programming environment. For example, in CPython (the reference implementation of Python), the maximum length of an identifier is typically limited to PY_SSIZE_T_MAX, which represents the maximum size of a signed integer on the platform.\n",
        "\n",
        "In general, it is recommended to keep identifier names reasonably short and meaningful to improve code readability and maintainability. It's rare to encounter situations where the length of an identifier becomes a limiting factor in Python programming."
      ],
      "metadata": {
        "id": "nvIoUOxY5W0I"
      }
    },
    {
      "cell_type": "code",
      "source": [],
      "metadata": {
        "id": "ZVGuDQlu5NW5"
      },
      "execution_count": null,
      "outputs": []
    },
    {
      "cell_type": "markdown",
      "source": [
        "#5. What is generator comprehension?"
      ],
      "metadata": {
        "id": "XTbWDqTJ5bA_"
      }
    },
    {
      "cell_type": "markdown",
      "source": [
        "Ans-Generator comprehension, also known as generator expression, is a concise and memory-efficient way to create generator objects in Python. It is similar to list comprehension but instead of creating a list, it generates elements on-the-fly as requested, saving memory by avoiding the need to store all values in memory at once.\n",
        "\n",
        "The syntax of a generator comprehension is similar to list comprehension, but it uses parentheses () instead of square brackets []\n",
        "\n",
        "\n",
        "The main advantage of generator comprehensions is their memory efficiency. Instead of creating and storing all values in memory like a list comprehension, generator comprehensions generate values on-the-fly as they are requested, saving memory particularly for large or infinite sequences.\n",
        "\n",
        "**Generator comprehensions offer the following benefits:**\n",
        "\n",
        "1. Memory Efficiency: Generator comprehensions generate values on-demand, which can be useful when dealing with large datasets or infinite sequences that cannot fit entirely in memory.\n",
        "\n",
        "2. Lazy Evaluation: Values are generated one at a time, as needed, rather than creating the entire sequence upfront. This lazy evaluation allows for efficient processing and improves performance.\n",
        "\n",
        "3. Readability: Generator comprehensions provide a concise and expressive syntax for generating sequences. They can be used in place of explicit loops, reducing code complexity and improving readability.\n",
        "\n",
        "4. Composition: Generator comprehensions can be combined with other functions and expressions to create complex and dynamic sequences. They can be used as inputs to other functions or combined with other generators, allowing for flexible data manipulation."
      ],
      "metadata": {
        "id": "8EEGIW-65lug"
      }
    },
    {
      "cell_type": "code",
      "source": [],
      "metadata": {
        "id": "QOO1CUQR5cOO"
      },
      "execution_count": null,
      "outputs": []
    }
  ]
}