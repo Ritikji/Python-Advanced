{
  "nbformat": 4,
  "nbformat_minor": 0,
  "metadata": {
    "colab": {
      "provenance": []
    },
    "kernelspec": {
      "name": "python3",
      "display_name": "Python 3"
    },
    "language_info": {
      "name": "python"
    }
  },
  "cells": [
    {
      "cell_type": "markdown",
      "source": [
        "#Q1. Explain the difference between greedy and non-greedy syntax with visual terms in as few words as possible. What is the bare minimum effort required to transform a greedy pattern into a non-greedy one? What characters or characters can you introduce or change?"
      ],
      "metadata": {
        "id": "dQX-Uwb5AJ-7"
      }
    },
    {
      "cell_type": "markdown",
      "source": [
        "Ans-Greedy and non-greedy syntax refer to the behavior of regular expression quantifiers (*, +, ?, {m,n}) when matching patterns in text.\n",
        "\n",
        "Greedy: Greedy quantifiers match as much of the pattern as possible, preferring to match the longest possible substring. They keep expanding until they can't match anymore.\n",
        "\n",
        "Non-greedy (or lazy): Non-greedy quantifiers match as little of the pattern as possible, preferring to match the shortest possible substring. They stop expanding as soon as they can match.\n",
        "\n",
        "To transform a greedy pattern into a non-greedy one, you can add a ? after the quantifier. This changes the quantifier from greedy to non-greedy.\n",
        "\n",
        "For example:\n",
        "\n",
        "Greedy: .* matches the longest possible sequence of any character.\n",
        "Non-greedy: .*? matches the shortest possible sequence of any character.\n",
        "The ? character after a quantifier is the bare minimum effort required to change the behavior from greedy to non-greedy.\n",
        "\n",
        "In visual terms, you can think of the greedy quantifier as a \"greedy monster\" that wants to consume as much as possible, stretching its reach to match the longest substring. On the other hand, the non-greedy quantifier is a \"modest creature\" that takes the minimum it needs to match the pattern, stopping as soon as it finds a valid match.\n",
        "\n",
        "By introducing or changing the ? character after a quantifier, you can switch between the two behaviors and control the greediness of the pattern matching."
      ],
      "metadata": {
        "id": "umGkKxUrAQpv"
      }
    },
    {
      "cell_type": "code",
      "execution_count": null,
      "metadata": {
        "id": "d_-RGcf7_WsK"
      },
      "outputs": [],
      "source": []
    },
    {
      "cell_type": "markdown",
      "source": [
        "#Q2. When exactly does greedy versus non-greedy make a difference?  What if you&#39;re looking for a non-greedy match but the only one available is greedy?"
      ],
      "metadata": {
        "id": "mpI5zrwIAeiJ"
      }
    },
    {
      "cell_type": "markdown",
      "source": [
        "Greedy versus non-greedy quantifiers make a difference when there are multiple possible matches for a given pattern in the input text. The difference is in the amount of text that the quantifier matches and how it behaves when there are overlapping matches.\n",
        "\n",
        "When looking for a non-greedy match, the non-greedy quantifier will try to match the shortest possible substring that satisfies the pattern. It stops expanding as soon as it finds a valid match. On the other hand, the greedy quantifier will try to match the longest possible substring that satisfies the pattern.\n",
        "\n",
        "If there is only one available match and it happens to be a greedy match, the distinction between greedy and non-greedy quantifiers becomes irrelevant because there are no overlapping matches to consider. In this case, both the greedy and non-greedy quantifiers will produce the same result.\n",
        "\n",
        "For example:\n",
        "\n",
        "Greedy: .* matches the longest possible sequence of any character.\n",
        "Non-greedy: .*? matches the shortest possible sequence of any character.\n",
        "Consider the input text: \"abcxyzabc\"\n",
        "\n",
        "Greedy match: .* will match the entire string \"abcxyzabc\".\n",
        "Non-greedy match: .*? will also match the entire string \"abcxyzabc\" because there is only one available match.\n",
        "\n",
        "In this specific case, the distinction between greedy and non-greedy quantifiers doesn't impact the outcome because there is no alternative match to consider. However, in cases where there are multiple matches available, the choice between greedy and non-greedy quantifiers becomes crucial in determining the behavior and results of the pattern matching."
      ],
      "metadata": {
        "id": "Ro4UO5qUAjVg"
      }
    },
    {
      "cell_type": "code",
      "source": [],
      "metadata": {
        "id": "HLtw3rhqAgdE"
      },
      "execution_count": null,
      "outputs": []
    },
    {
      "cell_type": "markdown",
      "source": [
        "#Q3. In a simple match of a string, which looks only for one match and does not do any replacement, is the use of a nontagged group likely to make any practical difference?"
      ],
      "metadata": {
        "id": "ks56AEMiDnEZ"
      }
    },
    {
      "cell_type": "markdown",
      "source": [
        "Ans-In a simple match of a string where you are only interested in finding one match and not performing any replacements, the use of a non-capturing group (a group without a capturing tag) may not make a practical difference in most cases.\n",
        "\n",
        "A non-capturing group (?:...) is used to group together subpatterns without capturing the matched substring. It is commonly used when you want to apply a modifier or repetition to a group but do not need to capture the matched content for further use.\n",
        "\n",
        "In the context of a simple match without any need for capturing groups, the use of a non-capturing group does not affect the outcome of the match. The pattern will still match the desired substring as long as the overall pattern is correctly specified."
      ],
      "metadata": {
        "id": "NGxgZ81aDsLy"
      }
    },
    {
      "cell_type": "code",
      "source": [
        "#example\n",
        "import re\n",
        "\n",
        "pattern = r'(?:abc)+'\n",
        "text = 'abcabcabc'\n",
        "\n",
        "match = re.match(pattern, text)\n",
        "if match:\n",
        "    print(\"Match found!\")\n",
        "else:\n",
        "    print(\"No match found.\")\n"
      ],
      "metadata": {
        "id": "byBiiTpPDo2c"
      },
      "execution_count": null,
      "outputs": []
    },
    {
      "cell_type": "markdown",
      "source": [
        "In this case, using a non-capturing group (?:abc)+ instead of a capturing group (abc)+ does not make a practical difference because we are only interested in determining if there is a match or not.\n",
        "\n",
        "However, there can be cases where using a non-capturing group can improve performance by reducing the overhead associated with capturing and storing matched substrings. Non-capturing groups can be more efficient in scenarios where the matched content does not need to be extracted or referenced later in the code.\n",
        "\n"
      ],
      "metadata": {
        "id": "75UyoNAGD0xt"
      }
    },
    {
      "cell_type": "markdown",
      "source": [
        "#Q4. Describe a scenario in which using a nontagged category would have a significant impact on the program&#39;s outcomes."
      ],
      "metadata": {
        "id": "AE0MeUuZD5_p"
      }
    },
    {
      "cell_type": "markdown",
      "source": [
        "Ans-One scenario where using a non-tagged category, specifically a non-capturing group (?:...), can have a significant impact on a program's outcomes is when using the group for repetition or applying modifiers without needing to capture the matched content.\n",
        "\n",
        "Here's an example scenario to illustrate this:\n",
        "\n",
        "Suppose you have a large text document and you want to count the occurrences of the word \"cat\" followed by one or more digits. You want to identify these occurrences without needing to capture the actual matched content.\n",
        "\n",
        "Using a non-capturing group allows you to efficiently perform the repetition and match the desired pattern without incurring the overhead of capturing and storing the matched content. This can be particularly beneficial when dealing with large datasets or when performance is a critical factor."
      ],
      "metadata": {
        "id": "BKdVF0-vEBtB"
      }
    },
    {
      "cell_type": "code",
      "source": [
        "#example\n",
        "import re\n",
        "\n",
        "pattern = r'cat(?:\\d+)'  # Non-capturing group for digits after \"cat\"\n",
        "text = 'I have a cat123 and another cat45'\n",
        "\n",
        "matches = re.findall(pattern, text)\n",
        "count = len(matches)\n",
        "\n",
        "print(\"Number of occurrences:\", count)\n"
      ],
      "metadata": {
        "colab": {
          "base_uri": "https://localhost:8080/"
        },
        "id": "wT7Vx2BTDxG5",
        "outputId": "53f8b9d7-cfc9-4d5f-8df5-a1fd2dcf8a70"
      },
      "execution_count": 2,
      "outputs": [
        {
          "output_type": "stream",
          "name": "stdout",
          "text": [
            "Number of occurrences: 2\n"
          ]
        }
      ]
    },
    {
      "cell_type": "code",
      "source": [],
      "metadata": {
        "id": "YOnPnvjCEE2D"
      },
      "execution_count": null,
      "outputs": []
    },
    {
      "cell_type": "markdown",
      "source": [
        "#Q5. Unlike a normal regex pattern, a look-ahead condition does not consume the characters it examines. Describe a situation in which this could make a difference in the results of your programme."
      ],
      "metadata": {
        "id": "iFkCjyOxEJdK"
      }
    },
    {
      "cell_type": "markdown",
      "source": [
        "Ans-The fact that a look-ahead condition in regular expressions does not consume the characters it examines can make a difference in the results of a program in various scenarios. One such situation is when you need to validate or match a pattern that has specific conditions before or after it, without including those conditions as part of the matched content.\n",
        "\n",
        "Consider the following scenario:\n",
        "\n",
        "Suppose you have a list of email addresses and you want to find all email addresses that have a specific domain (e.g., gmail.com) but without actually including the domain in the matched content. You want to check if an email address is followed by the domain using a look-ahead condition without including the domain as part of the match."
      ],
      "metadata": {
        "id": "dMEvBilhEPLq"
      }
    },
    {
      "cell_type": "code",
      "source": [
        "#example\n",
        "import re\n",
        "\n",
        "pattern = r'\\w+@(?=gmail\\.com)'\n",
        "email_list = ['john@gmail.com', 'jane@yahoo.com', 'mark@gmail.com']\n",
        "\n",
        "matches = [email for email in email_list if re.match(pattern, email)]\n",
        "print(matches)\n"
      ],
      "metadata": {
        "id": "NnhXD0ukEMQh",
        "outputId": "2d2c4cb7-4e2d-4403-e458-f7a9f05705a3",
        "colab": {
          "base_uri": "https://localhost:8080/"
        }
      },
      "execution_count": 3,
      "outputs": [
        {
          "output_type": "stream",
          "name": "stdout",
          "text": [
            "['john@gmail.com', 'mark@gmail.com']\n"
          ]
        }
      ]
    },
    {
      "cell_type": "code",
      "source": [],
      "metadata": {
        "id": "ePHoJOHIEUAA"
      },
      "execution_count": null,
      "outputs": []
    },
    {
      "cell_type": "markdown",
      "source": [
        "#Q6. In standard expressions, what is the difference between positive look-ahead and negative look-ahead?"
      ],
      "metadata": {
        "id": "NMVPxoDdEYdP"
      }
    },
    {
      "cell_type": "markdown",
      "source": [
        "Ans- In regular expressions, positive look-ahead ((?=...)) and negative look-ahead ((?!...)) are two types of look-around assertions that allow you to specify conditions that should or should not be followed by the current position in the string, without including those conditions in the final match. The difference lies in the conditions they specify.\n",
        "\n",
        "1. Positive Look-Ahead ((?=...)):\n",
        "Positive look-ahead asserts that a pattern should be followed by a specific condition. It matches the current position in the string only if the condition specified in the look-ahead assertion is true, without including the condition in the final match."
      ],
      "metadata": {
        "id": "YTBic9IWEc9o"
      }
    },
    {
      "cell_type": "code",
      "source": [
        "#example\n",
        "import re\n",
        "\n",
        "pattern = r'\\w+(?=ing)'  # Matches words followed by 'ing'\n",
        "text = 'running and swimming'\n",
        "\n",
        "matches = re.findall(pattern, text)\n",
        "print(matches)\n"
      ],
      "metadata": {
        "id": "hlSjIw7bEamw",
        "outputId": "11a5b52d-739d-43d6-e3c1-46f2f826b30e",
        "colab": {
          "base_uri": "https://localhost:8080/"
        }
      },
      "execution_count": 4,
      "outputs": [
        {
          "output_type": "stream",
          "name": "stdout",
          "text": [
            "['runn', 'swimm']\n"
          ]
        }
      ]
    },
    {
      "cell_type": "code",
      "source": [],
      "metadata": {
        "id": "nP8QMuPKEkJR"
      },
      "execution_count": null,
      "outputs": []
    },
    {
      "cell_type": "markdown",
      "source": [
        "2. Negative Look-Ahead ((?!...)):\n",
        "Negative look-ahead asserts that a pattern should not be followed by a specific condition. It matches the current position in the string only if the condition specified in the negative look-ahead assertion is false, without including the condition in the final match."
      ],
      "metadata": {
        "id": "0M5LF3urEnZv"
      }
    },
    {
      "cell_type": "code",
      "source": [
        "#example\n",
        "import re\n",
        "\n",
        "pattern = r'\\d+(?!px)'  # Matches numbers not followed by 'px'\n",
        "text = '10px and 20'\n",
        "\n",
        "matches = re.findall(pattern, text)\n",
        "print(matches)"
      ],
      "metadata": {
        "id": "SGAbWdpGEov0",
        "outputId": "c03021bb-ae56-4349-8e03-13ac7fa2d794",
        "colab": {
          "base_uri": "https://localhost:8080/"
        }
      },
      "execution_count": 5,
      "outputs": [
        {
          "output_type": "stream",
          "name": "stdout",
          "text": [
            "['1', '20']\n"
          ]
        }
      ]
    },
    {
      "cell_type": "code",
      "source": [],
      "metadata": {
        "id": "rJ6YuiPVEsw4"
      },
      "execution_count": null,
      "outputs": []
    },
    {
      "cell_type": "markdown",
      "source": [
        "#Q7. What is the benefit of referring to groups by name rather than by number in a standard expression?"
      ],
      "metadata": {
        "id": "egsvmVPHEwVQ"
      }
    },
    {
      "cell_type": "markdown",
      "source": [
        "Ans-1. Improved Readability and Maintainability:\n",
        "Using named groups in regular expressions makes the pattern more readable and self-explanatory. By assigning meaningful names to the captured groups, the intent and purpose of each group become clear. This improves the code's maintainability as it is easier to understand the purpose of each group when reviewing or modifying the regular expression later.\n",
        "\n",
        "2. Self-Documenting Patterns:\n",
        "Named groups act as self-documenting elements in the regular expression. The names themselves can provide valuable information about the content captured by the group, making the pattern easier to understand for both the original developer and other developers who work with the code.\n",
        "\n",
        "3. Avoidance of Dependency on Group Position:\n",
        "When using numbered groups, you have to rely on the specific position of the group within the regular expression. This can become problematic if the pattern is modified, and the group positions change. By using named groups, you eliminate the dependency on group positions, ensuring that your code remains unaffected by such modifications.\n",
        "\n",
        "4. Enhanced Flexibility:\n",
        "Named groups allow you to selectively access specific captured content based on the group names. This provides more flexibility when processing the matched content. You can easily refer to specific captured content by using the group names instead of relying on their positional indices.\n",
        "\n",
        "5. Easier Code Integration:\n",
        "When working with regular expressions in Python, using named groups allows for seamless integration with other parts of the code that deal with dictionaries or named attributes. You can directly access the captured content using the group names, making it easier to incorporate the matched content into your application logic."
      ],
      "metadata": {
        "id": "1QRl8iDJE35v"
      }
    },
    {
      "cell_type": "code",
      "source": [
        "#example\n",
        "import re\n",
        "\n",
        "pattern = r'(?P<day>\\d{2})-(?P<month>\\d{2})-(?P<year>\\d{4})'\n",
        "date = '15-07-2023'\n",
        "\n",
        "match = re.match(pattern, date)\n",
        "if match:\n",
        "    day = match.group('day')\n",
        "    month = match.group('month')\n",
        "    year = match.group('year')\n",
        "    print(f\"Day: {day}, Month: {month}, Year: {year}\")\n"
      ],
      "metadata": {
        "id": "zyu9Q2lBEzu1",
        "outputId": "13758a04-922a-474f-fed6-5d6929dfcea4",
        "colab": {
          "base_uri": "https://localhost:8080/"
        }
      },
      "execution_count": 6,
      "outputs": [
        {
          "output_type": "stream",
          "name": "stdout",
          "text": [
            "Day: 15, Month: 07, Year: 2023\n"
          ]
        }
      ]
    },
    {
      "cell_type": "code",
      "source": [],
      "metadata": {
        "id": "BpPEvq-5FDOH"
      },
      "execution_count": null,
      "outputs": []
    },
    {
      "cell_type": "markdown",
      "source": [
        "#Q8. Can you identify repeated items within a target string using named groups, as in &quot;The cow jumped over the moon&quot;?"
      ],
      "metadata": {
        "id": "1CMMQNEHFIF4"
      }
    },
    {
      "cell_type": "markdown",
      "source": [
        "Ans-Yes, you can identify repeated items within a target string using named groups in regular expressions. By defining a named group in the pattern and referring to it later in the expression, you can capture and match repeated occurrences of the same content\n",
        "\n",
        "In the given text, the word \"cow\" appears twice, and it is the only word that repeats. The re.findall() function returns a list of all non-overlapping matches, capturing the repeated word.\n",
        "\n",
        "By using named groups and the \\g<name> syntax, you can refer back to the captured content within the same regular expression pattern. This allows you to detect and identify repeated items based on their occurrence within the target string."
      ],
      "metadata": {
        "id": "ULF7V1kKFPQn"
      }
    },
    {
      "cell_type": "code",
      "source": [
        "'''\n",
        "example\n",
        "import re\n",
        "\n",
        "pattern = r'(?P<word>\\b\\w+\\b)(?=.*\\b\\g<word>\\b)'\n",
        "text = \"The cow jumped over the moon. The cow is happy.\"\n",
        "\n",
        "matches = re.findall(pattern, text)\n",
        "print(matches)\n",
        "'''"
      ],
      "metadata": {
        "id": "03m92OIkFLD_",
        "outputId": "5a50251e-ce7a-4421-c184-f1eba3c377ca",
        "colab": {
          "base_uri": "https://localhost:8080/",
          "height": 53
        }
      },
      "execution_count": 8,
      "outputs": [
        {
          "output_type": "execute_result",
          "data": {
            "text/plain": [
              "'\\nexample\\nimport re\\n\\npattern = r\\'(?P<word>\\x08\\\\w+\\x08)(?=.*\\x08\\\\g<word>\\x08)\\'\\ntext = \"The cow jumped over the moon. The cow is happy.\"\\n\\nmatches = re.findall(pattern, text)\\nprint(matches) \\n'"
            ],
            "application/vnd.google.colaboratory.intrinsic+json": {
              "type": "string"
            }
          },
          "metadata": {},
          "execution_count": 8
        }
      ]
    },
    {
      "cell_type": "code",
      "source": [],
      "metadata": {
        "id": "zKjhhZ63FXRX"
      },
      "execution_count": null,
      "outputs": []
    },
    {
      "cell_type": "markdown",
      "source": [
        "#Q9. When parsing a string, what is at least one thing that the Scanner interface does for you that the re.findall feature does not?"
      ],
      "metadata": {
        "id": "UFO16gyBFgdX"
      }
    },
    {
      "cell_type": "markdown",
      "source": [
        "Ans-When parsing a string, the Scanner interface in Python provides additional functionality compared to the re.findall() feature. One thing that the Scanner interface does for you, which is not available in re.findall(), is the ability to iterate over the parsed tokens one by one.\n",
        "\n",
        "The Scanner interface, available in the re module, allows you to create a scanner object that can scan a string and extract tokens based on specified patterns. It provides a convenient way to perform lexical analysis or parsing of a string by breaking it down into meaningful components."
      ],
      "metadata": {
        "id": "w1iCHAXoFmcH"
      }
    },
    {
      "cell_type": "code",
      "source": [
        "#example\n",
        "import re\n",
        "\n",
        "pattern = r'\\d+|\\w+'\n",
        "text = '123 abc 456 def'\n",
        "\n",
        "scanner = re.Scanner([(pattern, lambda scanner, token: token)])\n",
        "tokens, _ = scanner.scan(text)\n",
        "\n",
        "print(tokens)\n"
      ],
      "metadata": {
        "id": "eJaR41x5FinW",
        "outputId": "13b280bb-37d2-4857-e7b0-ea614d23fcd7",
        "colab": {
          "base_uri": "https://localhost:8080/"
        }
      },
      "execution_count": 10,
      "outputs": [
        {
          "output_type": "stream",
          "name": "stdout",
          "text": [
            "['123']\n"
          ]
        }
      ]
    },
    {
      "cell_type": "markdown",
      "source": [
        "The re.findall() function, on the other hand, returns a list of all non-overlapping matches of a pattern in a string. It does not provide the ability to iterate over the tokens individually or perform actions on each token.\n",
        "\n",
        "With the Scanner interface, you have more control over the parsing process. You can define custom action functions to process each token as it is encountered, allowing you to perform specific operations or logic based on the token's content."
      ],
      "metadata": {
        "id": "-VD7C_g-FyS3"
      }
    },
    {
      "cell_type": "code",
      "source": [],
      "metadata": {
        "id": "-Tn5-AheFsZf"
      },
      "execution_count": null,
      "outputs": []
    },
    {
      "cell_type": "markdown",
      "source": [
        "#Q10. Does a scanner object have to be named scanner?"
      ],
      "metadata": {
        "id": "_6XwQc4XF2g4"
      }
    },
    {
      "cell_type": "markdown",
      "source": [
        "Ans-No, a Scanner object in Python does not have to be named \"scanner.\" You can choose any valid variable name that follows Python's naming conventions when creating a Scanner object.\n",
        "\n",
        "In Python, variable names can be chosen freely as long as they adhere to the following rules:\n",
        "\n",
        "1. Variable names can contain letters (a-z, A-Z), digits (0-9), and underscores (_).\n",
        "\n",
        "2. Variable names cannot start with a digit.\n",
        "\n",
        "3. Variable names are case-sensitive.\n",
        "\n",
        "So, you can name your Scanner object whatever makes sense and is descriptive in the context of your code. It is recommended to choose a meaningful name that reflects the purpose of the Scanner object for better code readability and maintainability."
      ],
      "metadata": {
        "id": "3eYHgfrZF7dO"
      }
    },
    {
      "cell_type": "code",
      "source": [
        "#example\n",
        "import re\n",
        "\n",
        "pattern = r'\\d+|\\w+'\n",
        "text = '123 abc 456 def'\n",
        "\n",
        "tokenizer = re.Scanner([(pattern, lambda scanner, token: token)])\n",
        "tokens, _ = tokenizer.scan(text)\n",
        "\n",
        "print(tokens)\n"
      ],
      "metadata": {
        "id": "Z2WFVPxPF4bX",
        "outputId": "03313f30-746d-417a-c943-2cdc55f3398f",
        "colab": {
          "base_uri": "https://localhost:8080/"
        }
      },
      "execution_count": 11,
      "outputs": [
        {
          "output_type": "stream",
          "name": "stdout",
          "text": [
            "['123']\n"
          ]
        }
      ]
    },
    {
      "cell_type": "code",
      "source": [],
      "metadata": {
        "id": "YwXkni3DGGhv"
      },
      "execution_count": null,
      "outputs": []
    }
  ]
}