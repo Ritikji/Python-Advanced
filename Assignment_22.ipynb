{
  "nbformat": 4,
  "nbformat_minor": 0,
  "metadata": {
    "colab": {
      "provenance": []
    },
    "kernelspec": {
      "name": "python3",
      "display_name": "Python 3"
    },
    "language_info": {
      "name": "python"
    }
  },
  "cells": [
    {
      "cell_type": "markdown",
      "source": [
        "#Q1. What are the benefits of the built-in array package, if any?"
      ],
      "metadata": {
        "id": "-BJOMWO3Q89O"
      }
    },
    {
      "cell_type": "markdown",
      "source": [
        "Ans-there is no built-in array package in popular programming languages like Python or JavaScript. However, there are built-in array features or packages in various programming languages.\n",
        "\n",
        "1. Simplicity: Arrays provide a straightforward and intuitive way to store and organize a collection of elements. They offer a simple data structure with a fixed size that can be accessed using indices.\n",
        "\n",
        "2. Random Access: Arrays offer constant-time access to elements using their indices. This means that retrieving or modifying an element at a specific position can be done efficiently, without having to iterate through the entire collection.\n",
        "\n",
        "3. Efficiency: Arrays have a contiguous block of memory, which allows for efficient memory allocation and access. This makes arrays suitable for scenarios that require fast element retrieval, such as sorting, searching, and mathematical operations.\n",
        "\n",
        "4. Iteration: Arrays provide an easy way to iterate over all the elements using loops or iterators. This makes it convenient to perform operations on each element or process the entire collection sequentially.\n",
        "\n",
        "5. Versatility: Arrays can store elements of the same type, making them suitable for tasks that require homogeneous data storage. They can be used to represent various data structures, including lists, stacks, queues, and matrices.\n",
        "\n",
        "6. Performance: Many programming languages provide optimized implementations of arrays, ensuring efficient memory usage and operations. Arrays are often highly optimized, benefiting from low-level memory access and hardware optimizations.\n",
        "\n",
        "7. Integration: Arrays are widely supported in programming languages and have extensive integration with libraries, frameworks, and tools. Many algorithms and data structures are designed to work with arrays, making them a fundamental part of software development"
      ],
      "metadata": {
        "id": "S7el86VbRBFd"
      }
    },
    {
      "cell_type": "code",
      "execution_count": null,
      "metadata": {
        "id": "QO6IrJzpQtYw"
      },
      "outputs": [],
      "source": []
    },
    {
      "cell_type": "markdown",
      "source": [
        "#Q2. What are some of the array package&#39;s limitations?"
      ],
      "metadata": {
        "id": "RnQoPu99RYYe"
      }
    },
    {
      "cell_type": "markdown",
      "source": [
        "Ans-1. Fixed Size: Arrays have a fixed size, meaning they cannot be easily resized once created. If you need to add or remove elements dynamically, you may need to allocate a new array with the desired size and copy the elements over. This operation can be inefficient, especially if the array is large.\n",
        "\n",
        "2. Memory Overhead: Arrays require contiguous memory allocation, which can lead to memory fragmentation and inefficient memory usage. If the size of the array is not known in advance, you may end up allocating more memory than needed, leading to wasted resources.\n",
        "\n",
        "3. Homogeneous Data Type: Most arrays require elements of the same data type. This limitation can make it challenging to represent collections of different data types or structures that require heterogeneous storage.\n",
        "\n",
        "4. Inefficient Insertion and Deletion: Inserting or deleting elements within an array can be inefficient, especially when dealing with large arrays. If an element is inserted or removed from the middle of the array, all subsequent elements need to be shifted, resulting in a costly operation.\n",
        "\n",
        "5. Lack of High-Level Operations: Built-in array packages often provide basic functionalities for accessing and modifying elements. However, they may lack higher-level operations commonly required for data manipulation, such as filtering, mapping, and reducing. To perform such operations, additional code or external libraries may be needed.\n",
        "\n",
        "6. Lack of Bounds Checking: Many programming languages do not provide automatic bounds checking when accessing array elements. This means that accessing an index outside the valid range of the array can lead to runtime errors or unexpected behavior. It requires extra caution to ensure that array indices are within bounds to prevent such issues.\n",
        "\n",
        "7. Lack of Flexibility: Arrays have a rigid structure, making them less flexible compared to other data structures. They cannot easily accommodate varying data sizes, non-sequential access patterns, or complex relationships between elements."
      ],
      "metadata": {
        "id": "FUM2A4AHRfHU"
      }
    },
    {
      "cell_type": "code",
      "source": [],
      "metadata": {
        "id": "C6xErG0kRZgV"
      },
      "execution_count": null,
      "outputs": []
    },
    {
      "cell_type": "markdown",
      "source": [
        "#Q3. Describe the main differences between the array and numpy packages."
      ],
      "metadata": {
        "id": "Xdri4sbSSJJ0"
      }
    },
    {
      "cell_type": "markdown",
      "source": [
        "Ans-The main differences between the array and NumPy packages lie in their features, functionality, and underlying implementations.\n",
        "\n",
        "**Array Package:**\n",
        "\n",
        "1. The \"array\" package typically refers to the built-in array data structure provided by programming languages like Python and JavaScript. It is a basic data structure that stores a fixed-size sequence of elements of the same type. It offers simple indexing and iteration but lacks many advanced features.\n",
        "\n",
        "**NumPy Package:**\n",
        "\n",
        "1. NumPy (Numerical Python) is a powerful third-party library for scientific computing in Python. It provides multidimensional array objects, along with a collection of functions and tools for efficient numerical operations on these arrays.\n",
        "\n",
        "2. Multidimensional Arrays: NumPy introduces the ndarray (n-dimensional array) object, which allows for efficient storage and manipulation of homogeneous data in multiple dimensions. It supports arrays of any dimensionality (1D, 2D, etc.) and provides a rich set of functions and operations to work with them.\n",
        "\n",
        "3. Performance: NumPy arrays are implemented in C and provide high-performance operations. They are stored in contiguous memory blocks, allowing for efficient memory access and optimized numerical computations. NumPy leverages vectorized operations, which can significantly improve the performance of numerical calculations.\n",
        "\n",
        "4. Advanced Operations: NumPy offers a wide range of advanced array operations, including element-wise operations, broadcasting, slicing, reshaping, sorting, searching, statistical functions, linear algebra, Fourier transforms, and more. These operations enable efficient data manipulation, analysis, and numerical computations.\n",
        "\n",
        "5. Integration: NumPy is designed to integrate well with other scientific computing and data analysis libraries in the Python ecosystem. It serves as the foundation for many other libraries such as pandas, SciPy, and scikit-learn, providing a consistent array-based data structure for seamless interoperability.\n",
        "\n",
        "6. Extensibility: NumPy provides an extensive set of tools and functions for creating, manipulating, and extending arrays. It supports custom data types, allowing users to define their own specialized arrays and operations.\n",
        "\n",
        "7. Broadcasting: NumPy supports broadcasting, which allows for efficient element-wise operations between arrays of different shapes and sizes, without the need for explicit loops. This feature simplifies the implementation of many numerical algorithms and enhances code readability."
      ],
      "metadata": {
        "id": "bIZR2RrQTVk6"
      }
    },
    {
      "cell_type": "markdown",
      "source": [
        "#Q4. Explain the distinctions between the empty, ones, and zeros functions."
      ],
      "metadata": {
        "id": "Ts3uw0rqTpi5"
      }
    },
    {
      "cell_type": "markdown",
      "source": [
        "Ans-The empty, ones, and zeros functions are commonly used in programming languages, such as Python and NumPy, to create arrays with specific initial values.\n",
        "\n",
        "1. **empty():**\n",
        "The empty() function creates a new array with uninitialized or random values. It allocates the memory for the array without initializing the elements to any specific value. The actual values in the array will be whatever happens to be in the memory at the time of creation. The empty() function is useful when you plan to fill the array with values later on.\n",
        "\n",
        "\n",
        "2. **ones():**\n",
        "The ones() function creates a new array filled with ones. It takes the desired shape as an argument and returns an array with all elements set to 1. The ones() function is often used to initialize an array with default values, especially when performing arithmetic or numerical computations.\n",
        "\n",
        "3. zeros():\n",
        "The zeros() function creates a new array filled with zeros. It takes the desired shape as an argument and returns an array with all elements set to 0. The zeros() function is commonly used to initialize an array before filling it with actual data or when initializing arrays for calculations.\n",
        "\n"
      ],
      "metadata": {
        "id": "Dpyp7sIZTw2x"
      }
    },
    {
      "cell_type": "markdown",
      "source": [
        "#Q5. In the fromfunction function, which is used to construct new arrays, what is the role of the callable argument?"
      ],
      "metadata": {
        "id": "3QnmK-3aUIVR"
      }
    },
    {
      "cell_type": "markdown",
      "source": [
        "Ans-fromfunction function, the callable argument plays a crucial role in constructing new arrays. The fromfunction function is a NumPy method that creates a new array by executing a given function over each coordinate of the array. The purpose of the callable argument is to specify the function or callable object that defines the values of the array based on its coordinates.\n",
        "\n",
        "**Here's how the fromfunction function works:**\n",
        "\n",
        "The syntax of the fromfunction function is as follows:\n",
        "\n",
        "1. function: This argument takes a callable object, such as a function or lambda function, that will be called for each coordinate of the array. The function should take the coordinates as input arguments and return the corresponding value for that coordinate in the resulting array.\n",
        "\n",
        "2. shape: This argument specifies the shape of the output array, defining its dimensions and size.\n",
        "\n",
        "The fromfunction function iterates over the coordinates of the output array, passing the corresponding coordinates as arguments to the provided callable function. The return value of the callable function is used to populate the array element at that coordinate"
      ],
      "metadata": {
        "id": "ULr3g9RHUP3q"
      }
    },
    {
      "cell_type": "code",
      "source": [],
      "metadata": {
        "id": "R80XvNKYSJ30"
      },
      "execution_count": null,
      "outputs": []
    },
    {
      "cell_type": "markdown",
      "source": [
        "#Q6. What happens when a numpy array is combined with a single-value operand (a scalar, such as an int or a floating-point value) through addition, as in the expression A + n?"
      ],
      "metadata": {
        "id": "yVJ8wlMEUmnJ"
      }
    },
    {
      "cell_type": "markdown",
      "source": [
        "Ans-When a NumPy array is combined with a single-value operand (a scalar) through addition, such as in the expression A + n, the scalar value is broadcasted to match the shape of the array, and the addition operation is performed element-wise between the array and the scalar.\n",
        "\n",
        "**Here's what happens in more detail:**\n",
        "\n",
        "1. Broadcasting: Broadcasting is a NumPy concept that allows arrays with different shapes to be combined in arithmetic operations. When a scalar value is involved, it is broadcasted to match the shape of the array. This means that the scalar value is replicated along the necessary dimensions to align with the shape of the array.\n",
        "\n",
        "2. Element-wise Addition: Once the scalar value has been broadcasted to match the shape of the array, the addition operation is performed element-wise between the array and the scalar. Each element of the array is added to the corresponding element of the broadcasted scalar."
      ],
      "metadata": {
        "id": "gWjjwWMNUsqi"
      }
    },
    {
      "cell_type": "markdown",
      "source": [
        "#Q7. Can array-to-scalar operations use combined operation-assign operators (such as += or *=)? What is the outcome?"
      ],
      "metadata": {
        "id": "nANI0ZRNU1ew"
      }
    },
    {
      "cell_type": "markdown",
      "source": [
        "Ans- No, array-to-scalar operations cannot use combined operation-assign operators (such as += or *=) directly. These combined operation-assign operators are designed to perform in-place modifications on arrays, but they are not applicable when operating on an array with a scalar value.\n",
        "\n",
        "When you attempt to use a combined operation-assign operator on an array and a scalar, you will encounter a TypeError indicating that the operation is not supported between an array and a scalar."
      ],
      "metadata": {
        "id": "UmhBSN9TU7KA"
      }
    },
    {
      "cell_type": "code",
      "source": [
        "#Here's an example to illustrate this:\n",
        "import numpy as np\n",
        "\n",
        "A = np.array([1, 2, 3])\n",
        "n = 5\n",
        "\n",
        "A += n  # Trying to use the += operator on array and scalar\n",
        "\n"
      ],
      "metadata": {
        "id": "3TaAasrxUnPx"
      },
      "execution_count": 1,
      "outputs": []
    },
    {
      "cell_type": "markdown",
      "source": [
        "To perform element-wise operations between an array and a scalar value using in-place modifications, you need to explicitly apply the operator element-wise using the array's specific methods or functions. For example, you can use numpy.add() to achieve the desired result:"
      ],
      "metadata": {
        "id": "4hpOspgiVKww"
      }
    },
    {
      "cell_type": "code",
      "source": [
        "import numpy as np\n",
        "\n",
        "A = np.array([1, 2, 3])\n",
        "n = 5\n",
        "\n",
        "np.add(A, n, out=A)  # Using numpy.add() to perform element-wise addition in-place\n",
        "\n",
        "print(A)\n"
      ],
      "metadata": {
        "colab": {
          "base_uri": "https://localhost:8080/"
        },
        "id": "sglm13VHVMdY",
        "outputId": "0211ae8b-06cb-4e36-9f5a-ca5c841d0adc"
      },
      "execution_count": 2,
      "outputs": [
        {
          "output_type": "stream",
          "name": "stdout",
          "text": [
            "[6 7 8]\n"
          ]
        }
      ]
    },
    {
      "cell_type": "code",
      "source": [],
      "metadata": {
        "id": "apt5ma89VP-w"
      },
      "execution_count": null,
      "outputs": []
    },
    {
      "cell_type": "markdown",
      "source": [
        "#Q8. Does a numpy array contain fixed-length strings? What happens if you allocate a longer string to one of these arrays?"
      ],
      "metadata": {
        "id": "pM6VKwWAVUqA"
      }
    },
    {
      "cell_type": "markdown",
      "source": [
        "Ans-Yes, a NumPy array can contain fixed-length strings. NumPy provides the numpy.string_ data type for representing fixed-length strings in arrays. When creating a NumPy array with a fixed-length string data type, you specify the maximum length of the string as part of the array's data type.\n",
        "\n",
        "If you attempt to assign a longer string than the specified length to an element in a fixed-length string array, the string will be truncated to fit within the specified length. No error or warning will be raised, and the assignment will proceed, but the excess characters beyond the specified length will be discarded.\n",
        "\n",
        "When we assign a longer string to the first element of the array, it gets truncated to fit within the specified maximum length. The excess characters beyond the maximum length are discarded. As a result, the string in the array is truncated but assigned without any error or warning.\n",
        "\n",
        "It's important to note that fixed-length string arrays have a predetermined maximum length for each element. If you need to store strings of varying lengths, you may consider using variable-length string arrays (np.str_ or np.unicode_) or other data structures that allow for flexible string lengths.\n",
        "\n"
      ],
      "metadata": {
        "id": "B8NsPOrhVZ5p"
      }
    },
    {
      "cell_type": "code",
      "source": [
        "#example\n",
        "import numpy as np\n",
        "\n",
        "# Creating a NumPy array with fixed-length string data type\n",
        "arr = np.array(['foo', 'bar', 'baz'], dtype=np.string_)\n",
        "print(arr)\n",
        "\n",
        "\n",
        "# Assigning a longer string to an element in the array\n",
        "arr[0] = 'a longer string than the maximum length'\n",
        "print(arr)\n",
        "\n",
        "\n"
      ],
      "metadata": {
        "colab": {
          "base_uri": "https://localhost:8080/"
        },
        "id": "JKQ1l__FVXoA",
        "outputId": "3990b54e-ae2a-469d-becb-aa01e064aa7a"
      },
      "execution_count": 3,
      "outputs": [
        {
          "output_type": "stream",
          "name": "stdout",
          "text": [
            "[b'foo' b'bar' b'baz']\n",
            "[b'a l' b'bar' b'baz']\n"
          ]
        }
      ]
    },
    {
      "cell_type": "markdown",
      "source": [
        "#Q9. What happens when you combine two numpy arrays using an operation like addition (+) or multiplication (*)? What are the conditions for combining two numpy arrays?"
      ],
      "metadata": {
        "id": "XegwkvIDVqK6"
      }
    },
    {
      "cell_type": "markdown",
      "source": [
        "Ans-When you combine two NumPy arrays using an operation like addition (+) or multiplication (*), the operation is performed element-wise between the corresponding elements of the arrays. The resulting array will have the same shape as the input arrays.\n",
        "\n",
        "**The conditions for combining two NumPy arrays are as follows:**\n",
        "\n",
        "1. Compatible Shapes: The input arrays must have compatible shapes or be broadcastable to the same shape. Broadcasting is a mechanism in NumPy that allows arrays with different shapes to be used together in operations. The arrays' shapes are considered compatible if they satisfy certain rules defined by NumPy's broadcasting rules.\n",
        "\n",
        "2. Element-wise Operation: The operation between the corresponding elements of the arrays is performed element-wise. For addition (+), subtraction (-), multiplication (*), and division (/), the operation is performed on each element independently, resulting in a new array with the same shape as the input arrays.\n",
        "\n"
      ],
      "metadata": {
        "id": "F8kSZjnBWGkI"
      }
    },
    {
      "cell_type": "code",
      "source": [
        "#Example of combining two NumPy arrays:\n",
        "import numpy as np\n",
        "\n",
        "arr1 = np.array([1, 2, 3])\n",
        "arr2 = np.array([4, 5, 6])\n",
        "\n",
        "# Addition\n",
        "result_add = arr1 + arr2\n",
        "print(result_add)\n",
        "\n",
        "\n",
        "# Multiplication\n",
        "result_mult = arr1 * arr2\n",
        "print(result_mult)\n",
        "\n"
      ],
      "metadata": {
        "colab": {
          "base_uri": "https://localhost:8080/"
        },
        "id": "7zDZE-FtVmly",
        "outputId": "2d82ac9c-65d6-4f80-bcc5-5550bad6a50d"
      },
      "execution_count": 4,
      "outputs": [
        {
          "output_type": "stream",
          "name": "stdout",
          "text": [
            "[5 7 9]\n",
            "[ 4 10 18]\n"
          ]
        }
      ]
    },
    {
      "cell_type": "markdown",
      "source": [
        "#Q10. What is the best way to use a Boolean array to mask another array?"
      ],
      "metadata": {
        "id": "Wed6rFxUWd-H"
      }
    },
    {
      "cell_type": "markdown",
      "source": [
        "Ans-To use a Boolean array as a mask to select elements from another array, you can apply the Boolean array as an index to the array you want to mask. This process is called Boolean array indexing or Boolean masking. The Boolean array acts as a mask to select elements from the indexed array based on the corresponding True or False values in the mask array.\n",
        "\n",
        "It's important to note that the Boolean mask array and the array being masked must have the same shape or be broadcastable to the same shape. If the shapes do not match, a ValueError will be raised.\n",
        "\n",
        "Boolean array indexing can be a powerful tool for filtering and selecting elements from an array based on specific conditions or criteria, providing a concise and efficient way to manipulate arrays based on logical conditions."
      ],
      "metadata": {
        "id": "3t5aJLCBWs_v"
      }
    },
    {
      "cell_type": "code",
      "source": [
        "#example\n",
        "import numpy as np\n",
        "\n",
        "# Array to mask\n",
        "arr = np.array([1, 2, 3, 4, 5])\n",
        "\n",
        "# Boolean mask array\n",
        "mask = np.array([True, False, True, False, False])\n",
        "\n",
        "# Masking the array\n",
        "masked_arr = arr[mask]\n",
        "\n",
        "print(masked_arr)\n",
        "\n"
      ],
      "metadata": {
        "colab": {
          "base_uri": "https://localhost:8080/"
        },
        "id": "YGBXM1rgWauA",
        "outputId": "18e49e08-e353-4e15-c8ac-b202473a4462"
      },
      "execution_count": 5,
      "outputs": [
        {
          "output_type": "stream",
          "name": "stdout",
          "text": [
            "[1 3]\n"
          ]
        }
      ]
    },
    {
      "cell_type": "markdown",
      "source": [
        "#Q11. What are three different ways to get the standard deviation of a wide collection of data using both standard Python and its packages? Sort the three of them by how quickly they execute."
      ],
      "metadata": {
        "id": "9Ua-ky1tXdOG"
      }
    },
    {
      "cell_type": "markdown",
      "source": [
        "Ans-To get the standard deviation of a wide collection of data, you can use both standard Python and its packages. Here are three different ways to accomplish this, sorted by execution speed from fastest to slowest:\n",
        "\n",
        "1. NumPy Package:\n",
        "NumPy provides a fast and efficient way to calculate the standard deviation of an array or a collection of data. You can use the numpy.std() function to calculate the standard deviation."
      ],
      "metadata": {
        "id": "Jz75Ehr0XhDe"
      }
    },
    {
      "cell_type": "code",
      "source": [
        "#example\n",
        "import numpy as np\n",
        "\n",
        "data = np.array([1, 2, 3, 4, 5])\n",
        "\n",
        "std_dev = np.std(data)\n"
      ],
      "metadata": {
        "id": "8CAKbTzjXVmX"
      },
      "execution_count": 6,
      "outputs": []
    },
    {
      "cell_type": "markdown",
      "source": [
        "2. pandas Package:\n",
        "pandas is a powerful data analysis library built on top of NumPy. It provides high-level data manipulation and analysis tools, including calculating the standard deviation of data series or columns."
      ],
      "metadata": {
        "id": "US-gFeNSXx5-"
      }
    },
    {
      "cell_type": "code",
      "source": [
        "#example\n",
        "import pandas as pd\n",
        "\n",
        "data = pd.Series([1, 2, 3, 4, 5])\n",
        "\n",
        "std_dev = data.std()\n"
      ],
      "metadata": {
        "id": "Ft5OXKPxXtCv"
      },
      "execution_count": 7,
      "outputs": []
    },
    {
      "cell_type": "markdown",
      "source": [
        "3. Standard Python (math module):\n",
        "If you prefer to use standard Python, you can utilize the math module to calculate the standard deviation. However, note that this method can be slower compared to the NumPy or pandas approaches, especially for large datasets."
      ],
      "metadata": {
        "id": "ks-2pbReX_gP"
      }
    },
    {
      "cell_type": "code",
      "source": [
        "#example\n",
        "import math\n",
        "\n",
        "data = [1, 2, 3, 4, 5]\n",
        "\n",
        "mean = sum(data) / len(data)\n",
        "std_dev = math.sqrt(sum((x - mean) ** 2 for x in data) / len(data))\n"
      ],
      "metadata": {
        "id": "CBimAe30X3wf"
      },
      "execution_count": 8,
      "outputs": []
    },
    {
      "cell_type": "markdown",
      "source": [
        "#12. What is the dimensionality of a Boolean mask-generated array?"
      ],
      "metadata": {
        "id": "88JBuYazYJwF"
      }
    },
    {
      "cell_type": "markdown",
      "source": [
        "Ans-The dimensionality of a Boolean mask-generated array is determined by the shape and the number of dimensions of the original array being masked.\n",
        "\n",
        "When applying a Boolean mask to an array, the resulting masked array will have the same number of dimensions as the original array. However, the size of certain dimensions may change depending on the mask.\n",
        "\n",
        "It's important to note that the dimensionality of the masked array is affected by the number of True values in the mask. Each True value in the mask acts as a selection criterion, determining which elements from the original array are included in the resulting masked array. The resulting masked array will have a size equal to the number of True values in the mask."
      ],
      "metadata": {
        "id": "ukimMCDpYPUO"
      }
    },
    {
      "cell_type": "code",
      "source": [
        "#example\n",
        "import numpy as np\n",
        "\n",
        "arr = np.array([[1, 2, 3],\n",
        "                [4, 5, 6],\n",
        "                [7, 8, 9]])\n",
        "\n",
        "mask = np.array([[True, False, True],\n",
        "                 [False, True, False],\n",
        "                 [True, False, True]])\n",
        "\n",
        "masked_arr = arr[mask]\n",
        "\n",
        "print(masked_arr)\n",
        "print(masked_arr.shape)\n"
      ],
      "metadata": {
        "colab": {
          "base_uri": "https://localhost:8080/"
        },
        "id": "jqfWBwaOYGNW",
        "outputId": "90c318b6-955d-42d7-8751-14b73e7309f9"
      },
      "execution_count": 10,
      "outputs": [
        {
          "output_type": "stream",
          "name": "stdout",
          "text": [
            "[1 3 5 7 9]\n",
            "(5,)\n"
          ]
        }
      ]
    },
    {
      "cell_type": "code",
      "source": [],
      "metadata": {
        "id": "wzNUxWVIYdPT"
      },
      "execution_count": null,
      "outputs": []
    }
  ]
}