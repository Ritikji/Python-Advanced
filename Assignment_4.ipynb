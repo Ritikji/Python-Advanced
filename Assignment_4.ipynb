{
  "nbformat": 4,
  "nbformat_minor": 0,
  "metadata": {
    "colab": {
      "provenance": []
    },
    "kernelspec": {
      "name": "python3",
      "display_name": "Python 3"
    },
    "language_info": {
      "name": "python"
    }
  },
  "cells": [
    {
      "cell_type": "markdown",
      "source": [
        "#Q1. Which two operator overloading methods can you use in your classes to support iteration?"
      ],
      "metadata": {
        "id": "dtygUP2xzZPg"
      }
    },
    {
      "cell_type": "markdown",
      "source": [
        "1. __iter__: This method enables the object to be iterated using a loop or other iteration constructs. It should return an iterator object that defines the __next__ method. The __next__ method is responsible for returning the next item in the iteration."
      ],
      "metadata": {
        "id": "bX6-0Fkzzd0z"
      }
    },
    {
      "cell_type": "code",
      "execution_count": 1,
      "metadata": {
        "id": "5rTu-2l4zRMw"
      },
      "outputs": [],
      "source": [
        "#example\n",
        "class MyClass:\n",
        "    def __init__(self, data):\n",
        "        self.data = data\n",
        "\n",
        "    def __iter__(self):\n",
        "        return iter(self.data)\n"
      ]
    },
    {
      "cell_type": "markdown",
      "source": [
        "2. __next__: This method is used in conjunction with __iter__ to define an iterator object. It should return the next item in the iteration or raise the StopIteration exception if there are no more items to iterate."
      ],
      "metadata": {
        "id": "avnhuKs8zksB"
      }
    },
    {
      "cell_type": "code",
      "source": [
        "#example\n",
        "class MyClass:\n",
        "    def __init__(self, data):\n",
        "        self.data = data\n",
        "        self.index = 0\n",
        "\n",
        "    def __iter__(self):\n",
        "        return self\n",
        "\n",
        "    def __next__(self):\n",
        "        if self.index >= len(self.data):\n",
        "            raise StopIteration\n",
        "        item = self.data[self.index]\n",
        "        self.index += 1\n",
        "        return item\n"
      ],
      "metadata": {
        "id": "Rn7iL89FzhpM"
      },
      "execution_count": 3,
      "outputs": []
    },
    {
      "cell_type": "code",
      "source": [],
      "metadata": {
        "id": "DJ0887AezoBT"
      },
      "execution_count": null,
      "outputs": []
    },
    {
      "cell_type": "markdown",
      "source": [
        "#Q2. In what contexts do the two operator overloading methods manage printing?"
      ],
      "metadata": {
        "id": "Rnpz3lvuzxbp"
      }
    },
    {
      "cell_type": "markdown",
      "source": [
        "Ans- The two operator overloading methods, __str__ and __repr__, are used to manage printing in different contexts:\n",
        "\n",
        "1. __str__: This method is used to define the string representation of an object when the str() function is called or when the object is printed using print(). It should return a human-readable string representation of the object.\n"
      ],
      "metadata": {
        "id": "PWXS6j6-z2RQ"
      }
    },
    {
      "cell_type": "code",
      "source": [
        "#example\n",
        "class MyClass:\n",
        "    def __init__(self, data):\n",
        "        self.data = data\n",
        "\n",
        "    def __str__(self):\n",
        "        return f\"MyClass object with data: {self.data}\"\n"
      ],
      "metadata": {
        "id": "LR_do_YxzzRo"
      },
      "execution_count": 4,
      "outputs": []
    },
    {
      "cell_type": "markdown",
      "source": [
        "2. __repr__: This method is used to define the string representation of an object for debugging purposes and when the repr() function is called. It should return a string that can be used to recreate the object."
      ],
      "metadata": {
        "id": "uJ2A8tet0BHI"
      }
    },
    {
      "cell_type": "code",
      "source": [
        "#example\n",
        "class MyClass:\n",
        "    def __init__(self, data):\n",
        "        self.data = data\n",
        "\n",
        "    def __repr__(self):\n",
        "        return f\"MyClass({self.data})\"\n"
      ],
      "metadata": {
        "id": "qe3f4Jq4z9dA"
      },
      "execution_count": 5,
      "outputs": []
    },
    {
      "cell_type": "code",
      "source": [],
      "metadata": {
        "id": "LQGUWsEx0GNs"
      },
      "execution_count": null,
      "outputs": []
    },
    {
      "cell_type": "markdown",
      "source": [
        "#Q3. In a class, how do you intercept slice operations?"
      ],
      "metadata": {
        "id": "LrTxO2fM0JRw"
      }
    },
    {
      "cell_type": "markdown",
      "source": [
        "Ans- To intercept slice operations in a class, you can use the __getitem__ method with slicing syntax. The __getitem__ method allows you to customize the behavior when accessing elements of an object using indexing or slicing."
      ],
      "metadata": {
        "id": "lpPIjn1i0Pyq"
      }
    },
    {
      "cell_type": "code",
      "source": [
        "#example\n",
        "class MyClass:\n",
        "    def __init__(self, data):\n",
        "        self.data = data\n",
        "\n",
        "    def __getitem__(self, slice):\n",
        "        if isinstance(slice, slice):\n",
        "            start, stop, step = slice.start, slice.stop, slice.step\n",
        "            # Perform custom logic based on the slice parameters\n",
        "            # Return the sliced portion of the data\n",
        "            return self.data[start:stop:step]\n",
        "        else:\n",
        "            # Handle single-item indexing\n",
        "            return self.data[slice]\n"
      ],
      "metadata": {
        "id": "VX5l00FB0KGJ"
      },
      "execution_count": 6,
      "outputs": []
    },
    {
      "cell_type": "code",
      "source": [],
      "metadata": {
        "id": "OL7_1aeh0Tox"
      },
      "execution_count": null,
      "outputs": []
    },
    {
      "cell_type": "markdown",
      "source": [
        "#Q4. In a class, how do you capture in-place addition?"
      ],
      "metadata": {
        "id": "105go0yM0Yzb"
      }
    },
    {
      "cell_type": "markdown",
      "source": [
        "Ans- To capture in-place addition in a class, you can use the __iadd__ method. The __iadd__ method allows you to define the behavior when the += operator is used to perform in-place addition on an object.\n"
      ],
      "metadata": {
        "id": "9oiGZyqn0bo5"
      }
    },
    {
      "cell_type": "code",
      "source": [
        "#example\n",
        "class MyClass:\n",
        "    def __init__(self, value):\n",
        "        self.value = value\n",
        "\n",
        "    def __iadd__(self, other):\n",
        "        self.value += other\n",
        "        return self\n",
        "\n",
        "obj = MyClass(5)\n",
        "obj += 3\n",
        "print(obj.value)"
      ],
      "metadata": {
        "colab": {
          "base_uri": "https://localhost:8080/"
        },
        "id": "28jdW4Z10ZlN",
        "outputId": "0b3784f2-f751-4663-a80d-5764452b1b9a"
      },
      "execution_count": 8,
      "outputs": [
        {
          "output_type": "stream",
          "name": "stdout",
          "text": [
            "8\n"
          ]
        }
      ]
    },
    {
      "cell_type": "markdown",
      "source": [
        "#Q5. When is it appropriate to use operator overloading?"
      ],
      "metadata": {
        "id": "qaYEEfYB0mJP"
      }
    },
    {
      "cell_type": "markdown",
      "source": [
        "Ans - Operator overloading is appropriate in situations where it enhances the readability and usability of your code by providing intuitive and meaningful behavior for operators when applied to objects of your custom classes. Here are some scenarios where operator overloading can be beneficial:\n",
        "\n",
        "1. Custom Data Types: When working with custom data types or objects that model real-world concepts, operator overloading can make the code more expressive and natural. For example, if you have a Vector class, overloading operators like +, -, or * can allow intuitive vector arithmetic operations.\n",
        "\n",
        "2. Code Readability: Operator overloading can improve code readability by enabling you to write more concise and expressive code. For instance, overloading the comparison operators (<, <=, >, >=, ==, !=) can make your code more readable when dealing with complex comparisons.\n",
        "\n",
        "3. Domain-Specific Languages (DSLs): Operator overloading can be used to create Domain-Specific Languages (DSLs) that provide a more natural and expressive syntax for specific problem domains. This can make your code more readable and maintainable, especially in specialized areas.\n",
        "\n",
        "4. Mathematical Computations: In mathematical or scientific computations, operator overloading can enable you to work with mathematical symbols and operations in a way that closely resembles the mathematical notation. This can lead to more concise and readable code.\n",
        "\n",
        "5. Collection Classes: Operator overloading can be useful in collection classes like lists, sets, or matrices. Overloading operators such as [] (indexing), + (concatenation), or * (repetition) can provide more intuitive and convenient ways to manipulate and combine these collections."
      ],
      "metadata": {
        "id": "XvmLTpvX0srM"
      }
    },
    {
      "cell_type": "code",
      "source": [],
      "metadata": {
        "id": "M_5oxehf0gFJ"
      },
      "execution_count": null,
      "outputs": []
    }
  ]
}